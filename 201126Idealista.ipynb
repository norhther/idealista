{
 "cells": [
  {
   "cell_type": "code",
   "execution_count": 1,
   "metadata": {},
   "outputs": [],
   "source": [
    "import pandas as pd\n",
    "from selenium import webdriver\n",
    "import time\n",
    "from bs4 import BeautifulSoup\n",
    "import re\n",
    "import seaborn as sns\n",
    "import matplotlib.pyplot as plt"
   ]
  },
  {
   "cell_type": "code",
   "execution_count": 2,
   "metadata": {},
   "outputs": [],
   "source": [
    "scrapUrl = \"https://www.idealista.com/venta-viviendas/barcelona-barcelona/pagina-{}.htm?ordenado-por=fecha-publicacion-desc\""
   ]
  },
  {
   "cell_type": "markdown",
   "metadata": {},
   "source": [
    "## Let's Parse, baby"
   ]
  },
  {
   "cell_type": "code",
   "execution_count": 4,
   "metadata": {},
   "outputs": [],
   "source": [
    "scrapUrl = \"https://www.idealista.com/venta-viviendas/barcelona-barcelona/pagina-{}.htm\"\n",
    "\n",
    "def parseIdealista(n = 3):\n",
    "    info = []\n",
    "    habs = []\n",
    "    m2 = []\n",
    "    floor = []\n",
    "    price = []\n",
    "    for i in range(1, n + 1):\n",
    "        print(\"Parsing page {}...\".format(i))\n",
    "        options = webdriver.ChromeOptions()\n",
    "        #options.add_argument('headless');\n",
    "        #options.add_argument('--profile-directory=Profile 1')\n",
    "        #options.add_argument('--no-sandbox')\n",
    "        #options.add_argument(\"--user-data-dir=C:/Users/omarl/AppData/Local/Google/Chrome/User Data/\")\n",
    "        #options.add_argument(\"--remote-debugging-port=45447\")\n",
    "        browser = webdriver.Chrome(executable_path=r\"C:\\Users\\omarl\\OneDrive\\Escritorio\\chromedriver.exe\", options=options)\n",
    "        browser.get(scrapUrl.format(i))\n",
    "        time.sleep(10)\n",
    "        page_source = browser.page_source\n",
    "        browser.quit()\n",
    "        soup = BeautifulSoup(page_source)\n",
    "        for row in soup.select(\".item-info-container\"):\n",
    "            try:\n",
    "                info.append(row.select_one(\".item-link\").text)\n",
    "                habs.append(row.select(\".item-detail\")[0].text)\n",
    "                m2.append(row.select(\".item-detail\")[1].text)\n",
    "                floor.append(row.select(\".item-detail\")[2].text)\n",
    "            except:\n",
    "                floor.append(\"No info\")\n",
    "            try:\n",
    "                price.append(row.select(\".item-price\")[0].text)\n",
    "            except:\n",
    "                price.append(\"No info\")\n",
    "                \n",
    "            \n",
    "    data = {\n",
    "        \"info\": info,\n",
    "        \"habs\": habs,\n",
    "        \"m2\" : m2,\n",
    "        \"floor\" : floor,\n",
    "        \"price\" : price\n",
    "    }\n",
    "    return data\n"
   ]
  },
  {
   "cell_type": "code",
   "execution_count": 5,
   "metadata": {},
   "outputs": [
    {
     "name": "stdout",
     "output_type": "stream",
     "text": [
      "Parsing page 1...\n",
      "Parsing page 2...\n",
      "Parsing page 3...\n"
     ]
    }
   ],
   "source": [
    "data = parseIdealista()"
   ]
  },
  {
   "cell_type": "code",
   "execution_count": 6,
   "metadata": {},
   "outputs": [],
   "source": [
    "df = pd.DataFrame(data = data)"
   ]
  },
  {
   "cell_type": "code",
   "execution_count": 7,
   "metadata": {},
   "outputs": [],
   "source": [
    "df[\"habs\"] = df[\"habs\"].str.extract(r\"(\\d+)\")\n",
    "df[\"habs\"] = pd.to_numeric(df[\"habs\"])\n",
    "df[\"m2\"] = df[\"m2\"].str.extract(r\"(\\d+)\")\n",
    "df[\"m2\"] = pd.to_numeric(df[\"m2\"])"
   ]
  },
  {
   "cell_type": "code",
   "execution_count": 8,
   "metadata": {},
   "outputs": [],
   "source": [
    "df[\"elevator\"] = df[\"floor\"].str.match(r\".*con ascensor.*\")\n",
    "df[\"exterior\"] = df[\"floor\"].str.match(r\".*planta exterior.*\")\n",
    "df[\"floor\"] = df[\"floor\"].str.extract(r\"(\\d+)\")\n",
    "df[\"floor\"] = pd.to_numeric(df[\"floor\"])\n",
    "df[\"neigh\"] = df[\"info\"].str.split(',').str[-2]\n",
    "df[\"neigh\"] = df[\"neigh\"].str.replace(r\"[A-zÀ-ú]+ en \", \"\")\n",
    "df[\"neigh\"] = df[\"neigh\"].str.replace(r\"^\\s*\", \"\")\n",
    "df[\"neigh\"] = df[\"neigh\"].str.replace(r\"[A-zÀ-ú]+ en \", \"\")\n",
    "df[\"neigh\"] = df[\"neigh\"].str.replace(r\"Casa o chalet \", \"\")\n",
    "df[\"neigh\"] = df[\"neigh\"].str.replace(r\"Chalet \" , \"\")\n",
    "df[\"price\"] = df[\"price\"].str.replace(r\"[€\\.]\", \"\")\n",
    "df[\"price\"] = pd.to_numeric(df[\"price\"])"
   ]
  },
  {
   "cell_type": "code",
   "execution_count": 9,
   "metadata": {},
   "outputs": [],
   "source": [
    "df[\"type\"] = df[\"info\"].str.split(\" \").str[0]"
   ]
  },
  {
   "cell_type": "code",
   "execution_count": 10,
   "metadata": {},
   "outputs": [],
   "source": [
    "top10Index = df.groupby(\"neigh\")[\"price\"].mean().sort_values(ascending = False).head(10).index\n",
    "top10obs = df.groupby(\"neigh\")[\"neigh\"].count().sort_values(ascending = False).head(10)"
   ]
  },
  {
   "cell_type": "code",
   "execution_count": 11,
   "metadata": {},
   "outputs": [
    {
     "data": {
      "text/plain": [
       "<AxesSubplot:xlabel='price', ylabel='neigh'>"
      ]
     },
     "execution_count": 11,
     "metadata": {},
     "output_type": "execute_result"
    },
    {
     "data": {
      "image/png": "[encoded data removed]",
      "text/plain": [
       "<Figure size 432x288 with 1 Axes>"
      ]
     },
     "metadata": {
      "needs_background": "light"
     },
     "output_type": "display_data"
    }
   ],
   "source": [
    "sns.boxplot(y=\"neigh\", x=\"price\", data=df[df[\"neigh\"].isin(top10Index)])"
   ]
  },
  {
   "cell_type": "code",
   "execution_count": 12,
   "metadata": {},
   "outputs": [],
   "source": [
    "top_bot = df.groupby(\"neigh\")[\"price\"].mean().sort_values(ascending = False).head(10)\n",
    "top_bot = top_bot.append(df.groupby(\"neigh\")[\"price\"].mean().sort_values(ascending = False).tail(10))\n",
    "top_bot = top_bot.to_frame().reset_index()\n",
    "top_bot[\"price\"] = top_bot[\"price\"]"
   ]
  },
  {
   "cell_type": "code",
   "execution_count": 13,
   "metadata": {},
   "outputs": [
    {
     "data": {
      "text/html": [
       "<div>\n",
       "<style scoped>\n",
       "    .dataframe tbody tr th:only-of-type {\n",
       "        vertical-align: middle;\n",
       "    }\n",
       "\n",
       "    .dataframe tbody tr th {\n",
       "        vertical-align: top;\n",
       "    }\n",
       "\n",
       "    .dataframe thead th {\n",
       "        text-align: right;\n",
       "    }\n",
       "</style>\n",
       "<table border=\"1\" class=\"dataframe\">\n",
       "  <thead>\n",
       "    <tr style=\"text-align: right;\">\n",
       "      <th></th>\n",
       "      <th>neigh</th>\n",
       "      <th>price</th>\n",
       "    </tr>\n",
       "  </thead>\n",
       "  <tbody>\n",
       "    <tr>\n",
       "      <th>0</th>\n",
       "      <td>Sarrià</td>\n",
       "      <td>1.370000e+06</td>\n",
       "    </tr>\n",
       "    <tr>\n",
       "      <th>1</th>\n",
       "      <td>Sant Gervasi - La Bonanova</td>\n",
       "      <td>1.075714e+06</td>\n",
       "    </tr>\n",
       "    <tr>\n",
       "      <th>2</th>\n",
       "      <td>Sant Gervasi - Galvany</td>\n",
       "      <td>1.014143e+06</td>\n",
       "    </tr>\n",
       "    <tr>\n",
       "      <th>3</th>\n",
       "      <td>La Dreta de l'Eixample</td>\n",
       "      <td>9.823333e+05</td>\n",
       "    </tr>\n",
       "    <tr>\n",
       "      <th>4</th>\n",
       "      <td>El Gòtic</td>\n",
       "      <td>9.300000e+05</td>\n",
       "    </tr>\n",
       "    <tr>\n",
       "      <th>5</th>\n",
       "      <td>Vila de Gràcia</td>\n",
       "      <td>9.150000e+05</td>\n",
       "    </tr>\n",
       "    <tr>\n",
       "      <th>6</th>\n",
       "      <td>El Putxet i el Farró</td>\n",
       "      <td>8.000000e+05</td>\n",
       "    </tr>\n",
       "    <tr>\n",
       "      <th>7</th>\n",
       "      <td>Sant Pere - Santa Caterina i la Ribera</td>\n",
       "      <td>7.200000e+05</td>\n",
       "    </tr>\n",
       "    <tr>\n",
       "      <th>8</th>\n",
       "      <td>El Poblenou</td>\n",
       "      <td>7.000000e+05</td>\n",
       "    </tr>\n",
       "    <tr>\n",
       "      <th>9</th>\n",
       "      <td>Sant Antoni</td>\n",
       "      <td>6.983333e+05</td>\n",
       "    </tr>\n",
       "    <tr>\n",
       "      <th>10</th>\n",
       "      <td>El Clot</td>\n",
       "      <td>3.400000e+05</td>\n",
       "    </tr>\n",
       "    <tr>\n",
       "      <th>11</th>\n",
       "      <td>El Parc i la Llacuna del Poblenou</td>\n",
       "      <td>3.350000e+05</td>\n",
       "    </tr>\n",
       "    <tr>\n",
       "      <th>12</th>\n",
       "      <td>La Font d'En Fargues</td>\n",
       "      <td>2.990000e+05</td>\n",
       "    </tr>\n",
       "    <tr>\n",
       "      <th>13</th>\n",
       "      <td>La Vall d'Hebron - La Clota</td>\n",
       "      <td>2.990000e+05</td>\n",
       "    </tr>\n",
       "    <tr>\n",
       "      <th>14</th>\n",
       "      <td>Sant Martí de Provençals</td>\n",
       "      <td>2.390000e+05</td>\n",
       "    </tr>\n",
       "    <tr>\n",
       "      <th>15</th>\n",
       "      <td>El Raval</td>\n",
       "      <td>2.315000e+05</td>\n",
       "    </tr>\n",
       "    <tr>\n",
       "      <th>16</th>\n",
       "      <td>La Teixonera</td>\n",
       "      <td>2.250000e+05</td>\n",
       "    </tr>\n",
       "    <tr>\n",
       "      <th>17</th>\n",
       "      <td>Sants - Badal</td>\n",
       "      <td>1.990000e+05</td>\n",
       "    </tr>\n",
       "    <tr>\n",
       "      <th>18</th>\n",
       "      <td>El Congrés i els Indians</td>\n",
       "      <td>1.850000e+05</td>\n",
       "    </tr>\n",
       "    <tr>\n",
       "      <th>19</th>\n",
       "      <td>Verdun</td>\n",
       "      <td>1.410000e+05</td>\n",
       "    </tr>\n",
       "  </tbody>\n",
       "</table>\n",
       "</div>"
      ],
      "text/plain": [
       "                                     neigh         price\n",
       "0                                   Sarrià  1.370000e+06\n",
       "1               Sant Gervasi - La Bonanova  1.075714e+06\n",
       "2                   Sant Gervasi - Galvany  1.014143e+06\n",
       "3                   La Dreta de l'Eixample  9.823333e+05\n",
       "4                                 El Gòtic  9.300000e+05\n",
       "5                           Vila de Gràcia  9.150000e+05\n",
       "6                     El Putxet i el Farró  8.000000e+05\n",
       "7   Sant Pere - Santa Caterina i la Ribera  7.200000e+05\n",
       "8                              El Poblenou  7.000000e+05\n",
       "9                              Sant Antoni  6.983333e+05\n",
       "10                                 El Clot  3.400000e+05\n",
       "11       El Parc i la Llacuna del Poblenou  3.350000e+05\n",
       "12                    La Font d'En Fargues  2.990000e+05\n",
       "13             La Vall d'Hebron - La Clota  2.990000e+05\n",
       "14                Sant Martí de Provençals  2.390000e+05\n",
       "15                                El Raval  2.315000e+05\n",
       "16                            La Teixonera  2.250000e+05\n",
       "17                           Sants - Badal  1.990000e+05\n",
       "18                El Congrés i els Indians  1.850000e+05\n",
       "19                                  Verdun  1.410000e+05"
      ]
     },
     "execution_count": 13,
     "metadata": {},
     "output_type": "execute_result"
    }
   ],
   "source": [
    "top_bot"
   ]
  }
 ],
 "metadata": {
  "kernelspec": {
   "display_name": "Python 3",
   "language": "python",
   "name": "python3"
  },
  "language_info": {
   "codemirror_mode": {
    "name": "ipython",
    "version": 3
   },
   "file_extension": ".py",
   "mimetype": "text/x-python",
   "name": "python",
   "nbconvert_exporter": "python",
   "pygments_lexer": "ipython3",
   "version": "3.7.3"
  }
 },
 "nbformat": 4,
 "nbformat_minor": 4
}
